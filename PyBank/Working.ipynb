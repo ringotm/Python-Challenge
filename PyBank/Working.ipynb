{
 "cells": [
  {
   "cell_type": "code",
   "execution_count": 1,
   "metadata": {},
   "outputs": [],
   "source": [
    "#import csv module for reading/writing csv files\n",
    "import csv"
   ]
  },
  {
   "cell_type": "code",
   "execution_count": 3,
   "metadata": {},
   "outputs": [],
   "source": [
    "#store path to csv file\n",
    "file = 'budget_data.csv'"
   ]
  },
  {
   "cell_type": "code",
   "execution_count": 23,
   "metadata": {},
   "outputs": [],
   "source": [
    "months = []\n",
    "profit_loss = []\n",
    "profit_loss_total = 0"
   ]
  },
  {
   "cell_type": "code",
   "execution_count": 24,
   "metadata": {},
   "outputs": [
    {
     "name": "stdout",
     "output_type": "stream",
     "text": [
      "['Date', 'Profit/Losses']\n"
     ]
    }
   ],
   "source": [
    "with open(file) as f:\n",
    "    csvreader = csv.reader(f)\n",
    "    header = next(csvreader)\n",
    "    print(header)\n",
    "    \n",
    "    for row in csvreader:\n",
    "        months.append(row[0])\n",
    "        profit_loss.append(int(row[1]))\n",
    "        profit_loss_total += int(row[1])"
   ]
  },
  {
   "cell_type": "code",
   "execution_count": 45,
   "metadata": {},
   "outputs": [],
   "source": [
    "number_of_months = len(months)"
   ]
  },
  {
   "cell_type": "code",
   "execution_count": 40,
   "metadata": {},
   "outputs": [
    {
     "data": {
      "text/plain": [
       "86"
      ]
     },
     "execution_count": 40,
     "metadata": {},
     "output_type": "execute_result"
    }
   ],
   "source": [
    "len(profit_loss)"
   ]
  },
  {
   "cell_type": "code",
   "execution_count": 41,
   "metadata": {},
   "outputs": [
    {
     "data": {
      "text/plain": [
       "38382578"
      ]
     },
     "execution_count": 41,
     "metadata": {},
     "output_type": "execute_result"
    }
   ],
   "source": [
    "profit_loss_total"
   ]
  },
  {
   "cell_type": "code",
   "execution_count": 36,
   "metadata": {},
   "outputs": [
    {
     "data": {
      "text/plain": [
       "1170593"
      ]
     },
     "execution_count": 36,
     "metadata": {},
     "output_type": "execute_result"
    }
   ],
   "source": [
    "max(profit_loss)"
   ]
  },
  {
   "cell_type": "code",
   "execution_count": 29,
   "metadata": {},
   "outputs": [],
   "source": [
    "profit_loss_month = [profit_loss[i+1] - profit_loss[i] for i in range(len(profit_loss)-1)]"
   ]
  },
  {
   "cell_type": "code",
   "execution_count": 55,
   "metadata": {},
   "outputs": [
    {
     "data": {
      "text/plain": [
       "85"
      ]
     },
     "execution_count": 55,
     "metadata": {},
     "output_type": "execute_result"
    }
   ],
   "source": [
    "len(profit_loss_month)"
   ]
  },
  {
   "cell_type": "code",
   "execution_count": 57,
   "metadata": {},
   "outputs": [],
   "source": [
    "months.remove('Jan-2010')"
   ]
  },
  {
   "cell_type": "code",
   "execution_count": 59,
   "metadata": {},
   "outputs": [
    {
     "data": {
      "text/plain": [
       "85"
      ]
     },
     "execution_count": 59,
     "metadata": {},
     "output_type": "execute_result"
    }
   ],
   "source": [
    "len(months)"
   ]
  },
  {
   "cell_type": "code",
   "execution_count": 42,
   "metadata": {},
   "outputs": [
    {
     "data": {
      "text/plain": [
       "-2196167"
      ]
     },
     "execution_count": 42,
     "metadata": {},
     "output_type": "execute_result"
    }
   ],
   "source": [
    "min(profit_loss_month)"
   ]
  },
  {
   "cell_type": "code",
   "execution_count": 61,
   "metadata": {},
   "outputs": [
    {
     "data": {
      "text/plain": [
       "('Sep-2013', -2196167)"
      ]
     },
     "execution_count": 61,
     "metadata": {},
     "output_type": "execute_result"
    }
   ],
   "source": [
    "min(list(zip(months, profit_loss_month)),key = lambda x: x[1])"
   ]
  },
  {
   "cell_type": "code",
   "execution_count": 56,
   "metadata": {},
   "outputs": [
    {
     "data": {
      "text/plain": [
       "[('Jan-2010', 116771),\n",
       " ('Feb-2010', -662642),\n",
       " ('Mar-2010', -391430),\n",
       " ('Apr-2010', 379920),\n",
       " ('May-2010', 212354),\n",
       " ('Jun-2010', 510239),\n",
       " ('Jul-2010', -428211),\n",
       " ('Aug-2010', -821271),\n",
       " ('Sep-2010', 693918),\n",
       " ('Oct-2010', 416278),\n",
       " ('Nov-2010', -974163),\n",
       " ('Dec-2010', 860159),\n",
       " ('Jan-2011', -1115009),\n",
       " ('Feb-2011', 1033048),\n",
       " ('Mar-2011', 95318),\n",
       " ('Apr-2011', -308093),\n",
       " ('May-2011', 99052),\n",
       " ('Jun-2011', -521393),\n",
       " ('Jul-2011', 605450),\n",
       " ('Aug-2011', 231727),\n",
       " ('Sep-2011', -65187),\n",
       " ('Oct-2011', -702716),\n",
       " ('Nov-2011', 177975),\n",
       " ('Dec-2011', -1065544),\n",
       " ('Jan-2012', 1926159),\n",
       " ('Feb-2012', -917805),\n",
       " ('Mar-2012', 898730),\n",
       " ('Apr-2012', -334262),\n",
       " ('May-2012', -246499),\n",
       " ('Jun-2012', -64055),\n",
       " ('Jul-2012', -1529236),\n",
       " ('Aug-2012', 1497596),\n",
       " ('Sep-2012', 304914),\n",
       " ('Oct-2012', -635801),\n",
       " ('Nov-2012', 398319),\n",
       " ('Dec-2012', -183161),\n",
       " ('Jan-2013', -37864),\n",
       " ('Feb-2013', -253689),\n",
       " ('Mar-2013', 403655),\n",
       " ('Apr-2013', 94168),\n",
       " ('May-2013', 306877),\n",
       " ('Jun-2013', -83000),\n",
       " ('Jul-2013', 210462),\n",
       " ('Aug-2013', -2196167),\n",
       " ('Sep-2013', 1465222),\n",
       " ('Oct-2013', -956983),\n",
       " ('Nov-2013', 1838447),\n",
       " ('Dec-2013', -468003),\n",
       " ('Jan-2014', -64602),\n",
       " ('Feb-2014', 206242),\n",
       " ('Mar-2014', -242155),\n",
       " ('Apr-2014', -449079),\n",
       " ('May-2014', 315198),\n",
       " ('Jun-2014', 241099),\n",
       " ('Jul-2014', 111540),\n",
       " ('Aug-2014', 365942),\n",
       " ('Sep-2014', -219310),\n",
       " ('Oct-2014', -368665),\n",
       " ('Nov-2014', 409837),\n",
       " ('Dec-2014', 151210),\n",
       " ('Jan-2015', -110244),\n",
       " ('Feb-2015', -341938),\n",
       " ('Mar-2015', -1212159),\n",
       " ('Apr-2015', 683246),\n",
       " ('May-2015', -70825),\n",
       " ('Jun-2015', 335594),\n",
       " ('Jul-2015', 417334),\n",
       " ('Aug-2015', -272194),\n",
       " ('Sep-2015', -236462),\n",
       " ('Oct-2015', 657432),\n",
       " ('Nov-2015', -211262),\n",
       " ('Dec-2015', -128237),\n",
       " ('Jan-2016', -1750387),\n",
       " ('Feb-2016', 925441),\n",
       " ('Mar-2016', 932089),\n",
       " ('Apr-2016', -311434),\n",
       " ('May-2016', 267252),\n",
       " ('Jun-2016', -1876758),\n",
       " ('Jul-2016', 1733696),\n",
       " ('Aug-2016', 198551),\n",
       " ('Sep-2016', -665765),\n",
       " ('Oct-2016', 693229),\n",
       " ('Nov-2016', -734926),\n",
       " ('Dec-2016', 77242),\n",
       " ('Jan-2017', 532869)]"
      ]
     },
     "execution_count": 56,
     "metadata": {},
     "output_type": "execute_result"
    }
   ],
   "source": [
    "list(zip(months, profit_loss_month))"
   ]
  },
  {
   "cell_type": "code",
   "execution_count": 43,
   "metadata": {},
   "outputs": [
    {
     "data": {
      "text/plain": [
       "1926159"
      ]
     },
     "execution_count": 43,
     "metadata": {},
     "output_type": "execute_result"
    }
   ],
   "source": [
    "max(profit_loss_month)"
   ]
  },
  {
   "cell_type": "code",
   "execution_count": 33,
   "metadata": {},
   "outputs": [
    {
     "data": {
      "text/plain": [
       "-2315.12"
      ]
     },
     "execution_count": 33,
     "metadata": {},
     "output_type": "execute_result"
    }
   ],
   "source": [
    "total = 0\n",
    "for number in profit_loss_month:\n",
    "    total += number\n",
    "average = round(total/len(profit_loss_month),2)\n",
    "average"
   ]
  },
  {
   "cell_type": "code",
   "execution_count": 49,
   "metadata": {},
   "outputs": [
    {
     "name": "stdout",
     "output_type": "stream",
     "text": [
      "Financial Analysis\n",
      "------------------\n",
      "Total Months: 86\n",
      "Total: $38382578\n",
      "Average Change: $-2315.12\n"
     ]
    }
   ],
   "source": [
    "print(f\"Financial Analysis\")\n",
    "print(f\"------------------\")\n",
    "print(f\"Total Months: {number_of_months}\")\n",
    "print(f\"Total: ${profit_loss_total}\")\n",
    "print(f\"Average Change: ${average}\")\n",
    "print(f\"Greatest Increase in Profits: \")"
   ]
  },
  {
   "cell_type": "code",
   "execution_count": null,
   "metadata": {},
   "outputs": [],
   "source": []
  }
 ],
 "metadata": {
  "kernelspec": {
   "display_name": "Python 3.7.4 64-bit ('base': conda)",
   "language": "python",
   "name": "python37464bitbaseconda68e905bc638043beabf2e502caa344b2"
  },
  "language_info": {
   "codemirror_mode": {
    "name": "ipython",
    "version": 3
   },
   "file_extension": ".py",
   "mimetype": "text/x-python",
   "name": "python",
   "nbconvert_exporter": "python",
   "pygments_lexer": "ipython3",
   "version": "3.7.7"
  }
 },
 "nbformat": 4,
 "nbformat_minor": 4
}
